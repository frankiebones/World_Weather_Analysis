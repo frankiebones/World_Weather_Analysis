{
 "cells": [
  {
   "cell_type": "code",
   "execution_count": 17,
   "id": "dc9fab38",
   "metadata": {},
   "outputs": [],
   "source": [
    "# Create a practice set of random latitude and longitude combinations.\n",
    "lats = [25.12903645, 25.92017388, 26.62509167, -59.98969384, 37.30571269]\n",
    "lngs = [-67.59741259, 11.09532135, 74.84233102, -76.89176677, -61.13376282]\n",
    "\n",
    "lat_lngs = zip(lats, lngs)"
   ]
  },
  {
   "cell_type": "markdown",
   "id": "b80e3ec3",
   "metadata": {},
   "source": [
    "# citypy module"
   ]
  },
  {
   "cell_type": "code",
   "execution_count": 18,
   "id": "e9ca5bd4",
   "metadata": {},
   "outputs": [],
   "source": [
    "# use citipy module to determine city based on latitude and longitude\n",
    "\n",
    "from citipy import citipy"
   ]
  },
  {
   "cell_type": "code",
   "execution_count": 19,
   "id": "6f5d90fe",
   "metadata": {},
   "outputs": [
    {
     "name": "stdout",
     "output_type": "stream",
     "text": [
      "cockburn town tc\n",
      "gat ly\n",
      "parvatsar in\n",
      "punta arenas cl\n",
      "saint george bm\n"
     ]
    }
   ],
   "source": [
    "for lat_lng in lat_lngs:\n",
    "    \n",
    "    print(citipy.nearest_city(lat_lng[0], lat_lng[1]).city_name,\n",
    "          citipy.nearest_city(lat_lng[0], lat_lng[1]).country_code)"
   ]
  },
  {
   "cell_type": "markdown",
   "id": "13ed733c",
   "metadata": {},
   "source": [
    "# requests library\n",
    "\n",
    "[requests documentation](https://requests.kennethreitz.org/en/master/)  \n",
    "\n",
    "[requests quick start](https://requests.kennethreitz.org/en/master/user/quickstart/#make-a-request)"
   ]
  },
  {
   "cell_type": "code",
   "execution_count": 20,
   "id": "bc85d5da",
   "metadata": {},
   "outputs": [],
   "source": [
    "# import the requests library\n",
    "\n",
    "import requests\n",
    "\n",
    "# import the API key\n",
    "\n",
    "from config import weather_api_key"
   ]
  },
  {
   "cell_type": "code",
   "execution_count": 21,
   "id": "a9dbde55",
   "metadata": {},
   "outputs": [
    {
     "name": "stdout",
     "output_type": "stream",
     "text": [
      "http://api.openweathermap.org/data/2.5/weather?units=Imperial&APPID=69bc92009ba90e8d0ce1def7726e2da4\n"
     ]
    }
   ],
   "source": [
    "# Starting URL for Weather Map API Call\n",
    "\n",
    "url = \"http://api.openweathermap.org/data/2.5/weather?units=Imperial&APPID=\" + weather_api_key\n",
    "\n",
    "print(url)"
   ]
  },
  {
   "cell_type": "code",
   "execution_count": 22,
   "id": "bba53074",
   "metadata": {},
   "outputs": [
    {
     "name": "stdout",
     "output_type": "stream",
     "text": [
      "http://api.openweathermap.org/data/2.5/weather?units=Imperial&APPID=69bc92009ba90e8d0ce1def7726e2da4&q=Boston\n"
     ]
    }
   ],
   "source": [
    "# Create an endpoint URL for a city\n",
    "\n",
    "city_url = url + \"&q=\" + \"Boston\"\n",
    "\n",
    "print(city_url)"
   ]
  },
  {
   "cell_type": "code",
   "execution_count": 23,
   "id": "c0ca53ab",
   "metadata": {},
   "outputs": [
    {
     "data": {
      "text/plain": [
       "<Response [200]>"
      ]
     },
     "execution_count": 23,
     "metadata": {},
     "output_type": "execute_result"
    }
   ],
   "source": [
    "# make a 'Get' request for the city weather\n",
    "\n",
    "city_weather = requests.get(city_url)\n",
    "\n",
    "city_weather"
   ]
  },
  {
   "cell_type": "markdown",
   "id": "b438ff2f",
   "metadata": {},
   "source": [
    "### Error handling with If statment to determine each response status equals 200\n",
    "\n",
    "> .status_code"
   ]
  },
  {
   "cell_type": "code",
   "execution_count": 24,
   "id": "f76fb626",
   "metadata": {},
   "outputs": [
    {
     "name": "stdout",
     "output_type": "stream",
     "text": [
      "City weather found.\n"
     ]
    }
   ],
   "source": [
    "if city_weather.status_code == 200:\n",
    "    \n",
    "    print(f\"City weather found.\")\n",
    "    \n",
    "else:\n",
    "    \n",
    "    print(f\"City weather not found.\")"
   ]
  },
  {
   "cell_type": "code",
   "execution_count": 25,
   "id": "f0a448c0",
   "metadata": {},
   "outputs": [
    {
     "data": {
      "text/plain": [
       "'{\"coord\":{\"lon\":-71.0598,\"lat\":42.3584},\"weather\":[{\"id\":802,\"main\":\"Clouds\",\"description\":\"scattered clouds\",\"icon\":\"03d\"}],\"base\":\"stations\",\"main\":{\"temp\":74.61,\"feels_like\":75.06,\"temp_min\":71.24,\"temp_max\":78.4,\"pressure\":1018,\"humidity\":70},\"visibility\":10000,\"wind\":{\"speed\":9.22,\"deg\":250},\"clouds\":{\"all\":40},\"dt\":1652534000,\"sys\":{\"type\":2,\"id\":2013408,\"country\":\"US\",\"sunrise\":1652520234,\"sunset\":1652572645},\"timezone\":-14400,\"id\":4930956,\"name\":\"Boston\",\"cod\":200}'"
      ]
     },
     "execution_count": 25,
     "metadata": {},
     "output_type": "execute_result"
    }
   ],
   "source": [
    "# get text of 'Get' request\n",
    "\n",
    "city_weather.text"
   ]
  },
  {
   "cell_type": "code",
   "execution_count": 26,
   "id": "9fcf0b43",
   "metadata": {},
   "outputs": [
    {
     "data": {
      "text/plain": [
       "{'coord': {'lon': -71.0598, 'lat': 42.3584},\n",
       " 'weather': [{'id': 802,\n",
       "   'main': 'Clouds',\n",
       "   'description': 'scattered clouds',\n",
       "   'icon': '03d'}],\n",
       " 'base': 'stations',\n",
       " 'main': {'temp': 74.61,\n",
       "  'feels_like': 75.06,\n",
       "  'temp_min': 71.24,\n",
       "  'temp_max': 78.4,\n",
       "  'pressure': 1018,\n",
       "  'humidity': 70},\n",
       " 'visibility': 10000,\n",
       " 'wind': {'speed': 9.22, 'deg': 250},\n",
       " 'clouds': {'all': 40},\n",
       " 'dt': 1652534000,\n",
       " 'sys': {'type': 2,\n",
       "  'id': 2013408,\n",
       "  'country': 'US',\n",
       "  'sunrise': 1652520234,\n",
       "  'sunset': 1652572645},\n",
       " 'timezone': -14400,\n",
       " 'id': 4930956,\n",
       " 'name': 'Boston',\n",
       " 'cod': 200}"
      ]
     },
     "execution_count": 26,
     "metadata": {},
     "output_type": "execute_result"
    }
   ],
   "source": [
    "# get the JSON text of 'Get' request\n",
    "\n",
    "city_weather.json()"
   ]
  },
  {
   "cell_type": "code",
   "execution_count": 27,
   "id": "465935cc",
   "metadata": {},
   "outputs": [
    {
     "data": {
      "text/plain": [
       "' testing to make sure incorrect spelling of \\'Boston\\' returns invalid response code \\'404\\'\\n\\n# Create an endpoint URL for a city.\\ncity_url = url + \"&q=\" + \"Bston\"\\ncity_weather = requests.get(city_url)\\nif city_weather.status_code == 200:\\n    print(f\"City Weather found.\")\\nelse:\\n    print(f\"City weather not found.\")\\n\\n'"
      ]
     },
     "execution_count": 27,
     "metadata": {},
     "output_type": "execute_result"
    }
   ],
   "source": [
    "''' testing to make sure incorrect spelling of 'Boston' returns invalid response code '404'\n",
    "\n",
    "# Create an endpoint URL for a city.\n",
    "city_url = url + \"&q=\" + \"Bston\"\n",
    "city_weather = requests.get(city_url)\n",
    "if city_weather.status_code == 200:\n",
    "    print(f\"City Weather found.\")\n",
    "else:\n",
    "    print(f\"City weather not found.\")\n",
    "\n",
    "'''"
   ]
  },
  {
   "cell_type": "code",
   "execution_count": 28,
   "id": "a2674b15",
   "metadata": {},
   "outputs": [],
   "source": [
    "# Get the JSON data.\n",
    "boston_data = city_weather.json()"
   ]
  },
  {
   "cell_type": "code",
   "execution_count": null,
   "id": "f54c6ef3",
   "metadata": {},
   "outputs": [],
   "source": [
    "boston_data['coord']['lat']"
   ]
  },
  {
   "cell_type": "code",
   "execution_count": 32,
   "id": "8db5fb5d",
   "metadata": {},
   "outputs": [
    {
     "data": {
      "text/plain": [
       "78.4"
      ]
     },
     "execution_count": 32,
     "metadata": {},
     "output_type": "execute_result"
    }
   ],
   "source": [
    "boston_data['main']['temp_max']"
   ]
  },
  {
   "cell_type": "code",
   "execution_count": 33,
   "id": "cf832270",
   "metadata": {},
   "outputs": [
    {
     "name": "stdout",
     "output_type": "stream",
     "text": [
      "42.3584 -71.0598 78.4 70 40 9.22\n"
     ]
    }
   ],
   "source": [
    "lat = boston_data[\"coord\"][\"lat\"]\n",
    "lng = boston_data[\"coord\"][\"lon\"]\n",
    "max_temp = boston_data[\"main\"][\"temp_max\"]\n",
    "humidity = boston_data[\"main\"][\"humidity\"]\n",
    "clouds = boston_data[\"clouds\"][\"all\"]\n",
    "wind = boston_data[\"wind\"][\"speed\"]\n",
    "\n",
    "print(lat, lng, max_temp, humidity, clouds, wind)"
   ]
  },
  {
   "cell_type": "markdown",
   "id": "73d1c13f",
   "metadata": {},
   "source": [
    "# convert datetime\n",
    "\n",
    "> datetime.utcfromtimestamp( )  \n",
    "> *ISO format with the, year, month, date, hour, minute, and seconds offset by commas*  \n",
    "**(Y, M, D, Hr, Min, Sec)**  \n",
    "\n",
    "[datetime documentation](https://docs.python.org/3.7/library/datetime.html)\n",
    "\n",
    "[strftime & strptime](https://docs.python.org/3.7/library/datetime.html#strftime-and-strptime-behavior)"
   ]
  },
  {
   "cell_type": "code",
   "execution_count": 35,
   "id": "fea65144",
   "metadata": {},
   "outputs": [
    {
     "data": {
      "text/plain": [
       "'2022-05-14 13:13:20'"
      ]
     },
     "execution_count": 35,
     "metadata": {},
     "output_type": "execute_result"
    }
   ],
   "source": [
    "# Import the datetime module from the datetime library.\n",
    "\n",
    "from datetime import datetime\n",
    "\n",
    "# Get the date from the JSON file.\n",
    "\n",
    "date = boston_data[\"dt\"]\n",
    "\n",
    "# Convert the UTC date to a date format with year, month, day, hours, minutes, and seconds.\n",
    "\n",
    "datetime.utcfromtimestamp(date).strftime('%Y-%m-%d %H:%M:%S')"
   ]
  },
  {
   "cell_type": "markdown",
   "id": "6651ac5f",
   "metadata": {},
   "source": [
    "# get today's time in seconds since Jan 01, 1970\n",
    "\n",
    "[time module documentation](https://docs.python.org/3.6/library/time.html#functions)"
   ]
  },
  {
   "cell_type": "code",
   "execution_count": 38,
   "id": "c267d42e",
   "metadata": {},
   "outputs": [
    {
     "data": {
      "text/plain": [
       "1652551807.3406556"
      ]
     },
     "execution_count": 38,
     "metadata": {},
     "output_type": "execute_result"
    }
   ],
   "source": [
    "# import the time module\n",
    "\n",
    "import time\n",
    "\n",
    "# get today's date in second\n",
    "\n",
    "today = time.time()\n",
    "\n",
    "today"
   ]
  },
  {
   "cell_type": "markdown",
   "id": "8ac80c05",
   "metadata": {},
   "source": [
    "# convert to MM/DD/YY\n",
    "can be done in one step but wanted this here for reference"
   ]
  },
  {
   "cell_type": "code",
   "execution_count": 39,
   "id": "b78bc1e3",
   "metadata": {},
   "outputs": [
    {
     "data": {
      "text/plain": [
       "'05/14/22'"
      ]
     },
     "execution_count": 39,
     "metadata": {},
     "output_type": "execute_result"
    }
   ],
   "source": [
    "today = time.strftime(\"%x\")\n",
    "\n",
    "today"
   ]
  },
  {
   "cell_type": "code",
   "execution_count": null,
   "id": "51371118",
   "metadata": {},
   "outputs": [],
   "source": []
  }
 ],
 "metadata": {
  "kernelspec": {
   "display_name": "PythonData",
   "language": "python",
   "name": "pythondata"
  },
  "language_info": {
   "codemirror_mode": {
    "name": "ipython",
    "version": 3
   },
   "file_extension": ".py",
   "mimetype": "text/x-python",
   "name": "python",
   "nbconvert_exporter": "python",
   "pygments_lexer": "ipython3",
   "version": "3.7.11"
  }
 },
 "nbformat": 4,
 "nbformat_minor": 5
}
