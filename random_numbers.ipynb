{
 "cells": [
  {
   "cell_type": "code",
   "execution_count": 1,
   "id": "dfad946c",
   "metadata": {},
   "outputs": [],
   "source": [
    "import random"
   ]
  },
  {
   "cell_type": "markdown",
   "id": "d1510abe",
   "metadata": {},
   "source": [
    "# random integer within range\n",
    "> .randint( )"
   ]
  },
  {
   "cell_type": "code",
   "execution_count": 2,
   "id": "4429f2f9",
   "metadata": {},
   "outputs": [
    {
     "data": {
      "text/plain": [
       "58"
      ]
     },
     "execution_count": 2,
     "metadata": {},
     "output_type": "execute_result"
    }
   ],
   "source": [
    "random.randint(-90, 90)"
   ]
  },
  {
   "cell_type": "markdown",
   "id": "db63c08a",
   "metadata": {},
   "source": [
    "# random float between 0-1\n",
    "> .random( )"
   ]
  },
  {
   "cell_type": "code",
   "execution_count": 3,
   "id": "1c02a0a1",
   "metadata": {},
   "outputs": [
    {
     "data": {
      "text/plain": [
       "0.5240609382762248"
      ]
     },
     "execution_count": 3,
     "metadata": {},
     "output_type": "execute_result"
    }
   ],
   "source": [
    "random.random()"
   ]
  },
  {
   "cell_type": "markdown",
   "id": "55d6be97",
   "metadata": {},
   "source": [
    "# generate random latitude by combining rantint & random"
   ]
  },
  {
   "cell_type": "code",
   "execution_count": 4,
   "id": "b380c7d9",
   "metadata": {},
   "outputs": [
    {
     "data": {
      "text/plain": [
       "-11.83375073600105"
      ]
     },
     "execution_count": 4,
     "metadata": {},
     "output_type": "execute_result"
    }
   ],
   "source": [
    "random_num = random.randint(-90, 89) + random.random()\n",
    "\n",
    "random_num"
   ]
  },
  {
   "cell_type": "markdown",
   "id": "bd0932ee",
   "metadata": {},
   "source": [
    "## example of loop to create 10 random latitudes"
   ]
  },
  {
   "cell_type": "code",
   "execution_count": 5,
   "id": "fcb9f02a",
   "metadata": {},
   "outputs": [
    {
     "data": {
      "text/plain": [
       "[69.04625213508618,\n",
       " -84.41647999438639,\n",
       " -53.69012444292779,\n",
       " 73.83333565329454,\n",
       " -38.80891437993365,\n",
       " 89.75962747644395,\n",
       " -39.366115769292236,\n",
       " 81.24416867910236,\n",
       " 59.72640145237391,\n",
       " -70.96837866860386]"
      ]
     },
     "execution_count": 5,
     "metadata": {},
     "output_type": "execute_result"
    }
   ],
   "source": [
    "x = 1\n",
    "\n",
    "latitudes = []\n",
    "\n",
    "while x < 11:\n",
    "    random_lat = random.randint(-90, 89) + random.random()\n",
    "    latitudes.append(random_lat)\n",
    "    x += 1\n",
    "    \n",
    "latitudes"
   ]
  },
  {
   "cell_type": "markdown",
   "id": "c94c77f3",
   "metadata": {},
   "source": [
    "# random range with step\n",
    "> .randrange( )"
   ]
  },
  {
   "cell_type": "code",
   "execution_count": 12,
   "id": "0f60b954",
   "metadata": {},
   "outputs": [
    {
     "data": {
      "text/plain": [
       "-12"
      ]
     },
     "execution_count": 12,
     "metadata": {},
     "output_type": "execute_result"
    }
   ],
   "source": [
    "random.randrange(-90, 90, step=3)"
   ]
  },
  {
   "cell_type": "markdown",
   "id": "9b3d5016",
   "metadata": {},
   "source": [
    "# random float within range"
   ]
  },
  {
   "cell_type": "code",
   "execution_count": 16,
   "id": "2bfbe212",
   "metadata": {},
   "outputs": [
    {
     "data": {
      "text/plain": [
       "-66.9680402581705"
      ]
     },
     "execution_count": 16,
     "metadata": {},
     "output_type": "execute_result"
    }
   ],
   "source": [
    "random.uniform(-90, 90)"
   ]
  },
  {
   "cell_type": "code",
   "execution_count": 17,
   "id": "877119b1",
   "metadata": {},
   "outputs": [],
   "source": [
    "import numpy as np"
   ]
  },
  {
   "cell_type": "markdown",
   "id": "1437b021",
   "metadata": {},
   "source": [
    "[numpy.random.uniform documentation](https://docs.scipy.org/doc/numpy-1.14.0/reference/generated/numpy.random.uniform.html)"
   ]
  },
  {
   "cell_type": "code",
   "execution_count": 18,
   "id": "68b42fac",
   "metadata": {},
   "outputs": [
    {
     "data": {
      "text/plain": [
       "array([-78.87523446, -25.05043989,  59.00872763, -73.97069378,\n",
       "        87.14845515,  45.82496885,  72.52460001,  56.73989333,\n",
       "       -12.42357233,  41.84784766, -47.12748058,  23.34299125,\n",
       "        -0.21676776, -82.04045103,   8.81787387, -78.07174125,\n",
       "       -78.38645468, -46.67194431, -81.40730879,  76.84942671,\n",
       "        64.594835  ,  58.49801302,  21.64838312, -19.83362272,\n",
       "        73.89398974,  77.32520438,  56.76584566,  13.19603986,\n",
       "       -25.05050546,  78.44850598,  26.76162538,  14.8398666 ,\n",
       "       -82.49802368,   5.476693  ,  38.5134418 ,  45.39945322,\n",
       "       -84.17889454,  62.07885447,  15.38974585,  65.58033749,\n",
       "       -41.43887759,  11.85164713,  27.96003818, -57.1221868 ,\n",
       "       -47.87720367,  -1.95821436,   3.79467264, -45.64699355,\n",
       "       -87.28513403, -43.38096938])"
      ]
     },
     "execution_count": 18,
     "metadata": {},
     "output_type": "execute_result"
    }
   ],
   "source": [
    "np.random.uniform(-90.000, 90.000, size=50)"
   ]
  },
  {
   "cell_type": "markdown",
   "id": "5a2c9c8a",
   "metadata": {},
   "source": [
    "# import timeit module\n",
    "## to compare code run times"
   ]
  },
  {
   "cell_type": "code",
   "execution_count": 19,
   "id": "5fe8b399",
   "metadata": {},
   "outputs": [],
   "source": [
    "import timeit"
   ]
  },
  {
   "cell_type": "code",
   "execution_count": 20,
   "id": "b5411a5a",
   "metadata": {},
   "outputs": [
    {
     "name": "stdout",
     "output_type": "stream",
     "text": [
      "16.8 µs ± 663 ns per loop (mean ± std. dev. of 7 runs, 100000 loops each)\n"
     ]
    }
   ],
   "source": [
    "%timeit np.random.uniform(-90.000, 90.000, size=1500)"
   ]
  },
  {
   "cell_type": "code",
   "execution_count": 21,
   "id": "4ac8c8f7",
   "metadata": {},
   "outputs": [
    {
     "name": "stdout",
     "output_type": "stream",
     "text": [
      "2.31 ms ± 273 µs per loop (mean ± std. dev. of 7 runs, 100 loops each)\n"
     ]
    }
   ],
   "source": [
    "def latitudes(size):\n",
    "    \n",
    "    latitudes = []\n",
    "    \n",
    "    x = 0\n",
    "    \n",
    "    while x < (size):\n",
    "        random_lat = random.randint(-90, 90) + random.random()\n",
    "        latitudes.append(random_lat)\n",
    "        x += 1\n",
    "    return latitudes\n",
    "\n",
    "# Call the function with 1500.\n",
    "%timeit latitudes(1500)"
   ]
  }
 ],
 "metadata": {
  "kernelspec": {
   "display_name": "PythonData",
   "language": "python",
   "name": "pythondata"
  },
  "language_info": {
   "codemirror_mode": {
    "name": "ipython",
    "version": 3
   },
   "file_extension": ".py",
   "mimetype": "text/x-python",
   "name": "python",
   "nbconvert_exporter": "python",
   "pygments_lexer": "ipython3",
   "version": "3.7.11"
  }
 },
 "nbformat": 4,
 "nbformat_minor": 5
}
